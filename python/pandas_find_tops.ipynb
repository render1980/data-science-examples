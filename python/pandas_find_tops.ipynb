{
 "cells": [
  {
   "cell_type": "code",
   "execution_count": 7,
   "metadata": {},
   "outputs": [
    {
     "name": "stdout",
     "output_type": "stream",
     "text": [
      "# top5\n"
     ]
    },
    {
     "name": "stderr",
     "output_type": "stream",
     "text": [
      "/Library/Python/2.7/site-packages/ipykernel_launcher.py:13: FutureWarning: using a dict on a Series for aggregation\n",
      "is deprecated and will be removed in a future version\n",
      "  del sys.path[0]\n"
     ]
    },
    {
     "name": "stdout",
     "output_type": "stream",
     "text": [
      "                           src_user  count\n",
      "0  a6c732a9cd426b7620cd93e7aa37aef6  54522\n",
      "1  7834ea899abe21b5fd047e125cdffc56  50149\n",
      "2  64c5eae485561a1d7064477e792a6358  46463\n",
      "3  aedf2485753a52ca1149bde2343e8d7a  40371\n",
      "4  e948e29d93d507d2bfd6dc2dee45bf2b  37718\n"
     ]
    }
   ],
   "source": [
    "#! /usr/bin/python\n",
    "\n",
    "import pandas as p\n",
    "import argh\n",
    "\n",
    "def count_top(x, n=5):\n",
    "    return x.value_counts().head(n)\n",
    "\n",
    "def find_top_with_max_requests(df, top):\n",
    "    gb = df.groupby(['src_user']).src_user\n",
    "    # return gb.count().nlargest(top)\n",
    "    df_top_freq = df.groupby(['src_user'])['src_user'].agg(\n",
    "        {\"count\": len}).sort_values(\n",
    "            \"count\", ascending=False\n",
    "        ).head(top).reset_index()\n",
    "    return df_top_freq\n",
    "\n",
    "def find_top_with_max_output_bytes(df, top):\n",
    "    gb = df.groupby(['src_user']).output_byte\n",
    "    return gb.sum().nlargest(top)\n",
    "\n",
    "df = p.read_csv('~/Downloads/shkib.csv')\n",
    "\n",
    "print(\"# top5\")\n",
    "print(find_top_with_max_requests(df, 5))\n",
    "\n",
    "# @argh.dispatch_command\n",
    "# def main(a=None, b=None):\n",
    "#     print('a=', a, 'b=', b)"
   ]
  },
  {
   "cell_type": "code",
   "execution_count": null,
   "metadata": {},
   "outputs": [],
   "source": []
  }
 ],
 "metadata": {
  "kernelspec": {
   "display_name": "Python 2",
   "language": "python",
   "name": "python2"
  },
  "language_info": {
   "codemirror_mode": {
    "name": "ipython",
    "version": 2
   },
   "file_extension": ".py",
   "mimetype": "text/x-python",
   "name": "python",
   "nbconvert_exporter": "python",
   "pygments_lexer": "ipython2",
   "version": "2.7.10"
  }
 },
 "nbformat": 4,
 "nbformat_minor": 2
}
