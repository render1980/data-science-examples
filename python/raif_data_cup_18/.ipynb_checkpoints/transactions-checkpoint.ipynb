{
 "cells": [
  {
   "cell_type": "code",
   "execution_count": 1,
   "metadata": {
    "autoscroll": false,
    "collapsed": false,
    "ein.tags": "worksheet-0",
    "slideshow": {
     "slide_type": "-"
    }
   },
   "outputs": [
    {
     "name": "stderr",
     "output_type": "stream",
     "text": [
      "/Library/Python/2.7/site-packages/ipython-5.5.0-py2.7.egg/IPython/core/interactiveshell.py:2718: DtypeWarning: Columns (1,11) have mixed types. Specify dtype option on import or set low_memory=False.\n",
      "  interactivity=interactivity, compiler=compiler, result=result)\n"
     ]
    },
    {
     "name": "stdout",
     "output_type": "stream",
     "text": [
      "     amount atm_address  atm_address_lat  atm_address_lon           city  \\\n",
      "0  2.884034         NaN              NaN              NaN  ST PETERSBURG   \n",
      "1  2.775633         NaN              NaN              NaN  ST PETERSBURG   \n",
      "2  3.708368         NaN              NaN              NaN  St Petersburg   \n",
      "3  2.787498         NaN              NaN              NaN  ST PETERSBURG   \n",
      "4  2.892510         NaN              NaN              NaN  ST PETERSBURG   \n",
      "\n",
      "  country  currency                       customer_id  home_add_lat  \\\n",
      "0     RUS     643.0  0dc0137d280a2a82d2dc89282450ff1b        59.851   \n",
      "1     RUS     643.0  0dc0137d280a2a82d2dc89282450ff1b        59.851   \n",
      "2     RUS     643.0  0dc0137d280a2a82d2dc89282450ff1b        59.851   \n",
      "3     RUS     643.0  0dc0137d280a2a82d2dc89282450ff1b        59.851   \n",
      "4     RUS     643.0  0dc0137d280a2a82d2dc89282450ff1b        59.851   \n",
      "\n",
      "   home_add_lon   mcc                                        pos_address  \\\n",
      "0        30.232  5261                                                NaN   \n",
      "1        30.232  5261                                                NaN   \n",
      "2        30.232  5992  PR.MARSHALA ZHUKOVA,31St Petersburg190000    7...   \n",
      "3        30.232  5261                                                NaN   \n",
      "4        30.232  5261                                                NaN   \n",
      "\n",
      "   pos_adress_lat  pos_adress_lon                       terminal_id  \\\n",
      "0       59.844072       30.179153  11606fde0c814ce78e0d726e39a0a5ee   \n",
      "1       59.844072       30.179153  e9647a5e1eacfb06713b6af755ccc595   \n",
      "2       59.858198       30.229024  df06c1fcd3718a514535ae822785f716   \n",
      "3       59.844072       30.179153  6c5e5793ebc984fb72875feffff62854   \n",
      "4       59.844072       30.179153  0576445d74e374c92c0902e612fca356   \n",
      "\n",
      "  transaction_date  work_add_lat  work_add_lon  \n",
      "0       2017-07-15        59.847        30.177  \n",
      "1       2017-10-27        59.847        30.177  \n",
      "2       2017-10-03        59.847        30.177  \n",
      "3       2017-09-09        59.847        30.177  \n",
      "4       2017-07-06        59.847        30.177  \n"
     ]
    }
   ],
   "source": [
    "import pandas as p\n",
    "\n",
    "data = p.read_csv(filepath_or_buffer='~/Downloads/train_set.csv')\n",
    "print(data[:1])"
   ]
  },
  {
   "cell_type": "code",
   "execution_count": null,
   "metadata": {
    "autoscroll": false,
    "collapsed": false,
    "ein.tags": "worksheet-0",
    "slideshow": {
     "slide_type": "-"
    }
   },
   "outputs": [],
   "source": []
  }
 ],
 "metadata": {
  "kernelspec": {
   "display_name": "Python 2",
   "name": "python2"
  },
  "language_info": {
   "codemirror_mode": {
    "name": "ipython",
    "version": 2
   },
   "file_extension": ".py",
   "mimetype": "text/x-python",
   "name": "python",
   "nbconvert_exporter": "python",
   "pygments_lexer": "ipython2",
   "version": "2.7.10"
  },
  "name": "Untitled.ipynb"
 },
 "nbformat": 4,
 "nbformat_minor": 2
}
